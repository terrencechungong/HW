{
 "cells": [
  {
   "cell_type": "code",
   "execution_count": 1,
   "metadata": {},
   "outputs": [],
   "source": [
    "import struct\n",
    "import zlib"
   ]
  },
  {
   "cell_type": "code",
   "execution_count": 2,
   "metadata": {},
   "outputs": [],
   "source": [
    "def imread_png_grayscale(filename):\n",
    "    with open(filename, 'rb') as f:\n",
    "        # Verify PNG signature\n",
    "        signature = f.read(8)\n",
    "        if signature != b'\\x89PNG\\r\\n\\x1a\\n':\n",
    "            raise ValueError(\"File is not a valid PNG image.\")\n",
    "        \n",
    "        # Read chunks until we get the IHDR and IDAT chunks\n",
    "        width = height = None\n",
    "        bit_depth = color_type = None\n",
    "        compressed_data = b''\n",
    "        \n",
    "        while True:\n",
    "            # Each chunk has 4 parts: length (4 bytes), type (4 bytes), data, CRC (4 bytes)\n",
    "            chunk_length = struct.unpack(\">I\", f.read(4))[0]  # Length of chunk data\n",
    "            chunk_type = f.read(4)  # Type of chunk\n",
    "            \n",
    "            # Read the chunk data\n",
    "            chunk_data = f.read(chunk_length)\n",
    "            # Skip CRC\n",
    "            f.read(4)\n",
    "            \n",
    "            if chunk_type == b'IHDR':\n",
    "                # IHDR chunk contains metadata\n",
    "                width, height, bit_depth, color_type, _, _, _ = struct.unpack(\">IIBBBBB\", chunk_data)\n",
    "                if color_type != 0:\n",
    "                    raise ValueError(\"Only grayscale PNG images are supported.\")\n",
    "                \n",
    "            elif chunk_type == b'IDAT':\n",
    "                # Collect IDAT data for decompression\n",
    "                compressed_data += chunk_data\n",
    "                \n",
    "            elif chunk_type == b'IEND':\n",
    "                # IEND marks the end of the file\n",
    "                break\n",
    "        \n",
    "        # Decompress the IDAT data\n",
    "        decompressed_data = zlib.decompress(compressed_data)\n",
    "        \n",
    "        # Convert decompressed data to a 2D array of pixels\n",
    "        # Each row of the image starts with a filter byte\n",
    "        image_data = []\n",
    "        row_size = width\n",
    "        \n",
    "        i = 0\n",
    "        for row in range(height):\n",
    "            # Skip the filter byte\n",
    "            filter_type = decompressed_data[i]\n",
    "            i += 1\n",
    "            \n",
    "            # Read each pixel in the row\n",
    "            row_data = []\n",
    "            for col in range(row_size):\n",
    "                row_data.append(decompressed_data[i])\n",
    "                i += 1\n",
    "            \n",
    "            image_data.append(row_data)\n",
    "        \n",
    "    return image_data  # Returns a 2D list representing the grayscale image"
   ]
  },
  {
   "cell_type": "code",
   "execution_count": 5,
   "metadata": {},
   "outputs": [],
   "source": [
    "def flatten_image(image_data):\n",
    "    # Use a list comprehension to flatten the 2D array into a 1D array\n",
    "    flattened_image = [pixel for row in image_data for pixel in row]\n",
    "    return flattened_image"
   ]
  },
  {
   "cell_type": "code",
   "execution_count": null,
   "metadata": {},
   "outputs": [
    {
     "name": "stdout",
     "output_type": "stream",
     "text": [
      "400\n"
     ]
    }
   ],
   "source": [
    "import os\n",
    "import random\n",
    "\n",
    "# Directory path Switch this up for submission\n",
    "directory_path = 'C:\\\\Users\\\\Admin\\\\coding-projs\\\\cmsc422\\\\HW\\\\422hw3\\\\facedata\\\\Face Data for Homework\\\\ATT'\n",
    "sorted_files = sorted(os.listdir(directory_path))\n",
    "label_and_data = [] # [label, data]\n",
    "\n",
    "# Iterate through each file in the directory\n",
    "for index, filename in enumerate(sorted_files):\n",
    "    file_path = os.path.join(directory_path, filename)\n",
    "    if 'README' in filename:\n",
    "        continue\n",
    "\n",
    "    # Check if it's a file (not a directory)\n",
    "    if os.path.isfile(file_path):\n",
    "        # Find the part of the filename up to the first underscore\n",
    "        class_number = filename.split('_', 1)[0]\n",
    "        flattened_data = flatten_image(imread_png_grayscale(file_path))\n",
    "        label_and_data.append([[class_number, flattened_data]])\n",
    "\n",
    "random.shuffle(label_and_data)\n",
    "print(len(label_and_data))"
   ]
  },
  {
   "cell_type": "code",
   "execution_count": 24,
   "metadata": {},
   "outputs": [],
   "source": [
    "def euclidean_distance(img1, img2):\n",
    "    # Ensure the images have the same length\n",
    "    if len(img1) != len(img2):\n",
    "        raise ValueError(\"Images must have the same size.\")\n",
    "    \n",
    "    # Initialize the sum of squared differences\n",
    "    squared_diff_sum = 0\n",
    "    \n",
    "    # Loop over each pixel value in the flattened arrays\n",
    "    for i in range(len(img1)):\n",
    "        # Calculate the difference between corresponding pixels\n",
    "        diff = img1[i] - img2[i]\n",
    "        \n",
    "        # Square the difference and add to the sum\n",
    "        squared_diff_sum += diff ** 2\n",
    "    \n",
    "    # Take the square root of the sum to get the Euclidean distance\n",
    "    distance = squared_diff_sum ** 0.5\n",
    "    return distance\n"
   ]
  },
  {
   "cell_type": "code",
   "execution_count": 28,
   "metadata": {},
   "outputs": [],
   "source": [
    "five_folds = []\n",
    "fold = []\n",
    "\n",
    "for entry in label_and_data:\n",
    "    if len(fold) == 79:\n",
    "        fold.append(entry)\n",
    "        five_folds.append([f for f in fold])\n",
    "        fold = []\n",
    "    else:\n",
    "        fold.append(entry)\n",
    "            "
   ]
  },
  {
   "cell_type": "code",
   "execution_count": 43,
   "metadata": {},
   "outputs": [
    {
     "name": "stdout",
     "output_type": "stream",
     "text": [
      "5\n"
     ]
    }
   ],
   "source": [
    "print(len(five_folds))"
   ]
  },
  {
   "cell_type": "code",
   "execution_count": 54,
   "metadata": {},
   "outputs": [],
   "source": [
    "def get_1nn_predictions(train, test):\n",
    "    amount_correct = 0\n",
    "    for i in range(len(test)):\n",
    "        test_me = test[i][0]\n",
    "        # print(len(test_me))\n",
    "        real_label = test_me[0]\n",
    "        test_data = test_me[1]\n",
    "        pred = [float('inf'), 'none']  # distance, label\n",
    "        for j in range(len(train)):\n",
    "            label = train[j][0][0]\n",
    "            data = train[j][0][1]\n",
    "            dist = euclidean_distance(data, test_data)\n",
    "            if dist < pred[0]:\n",
    "                pred = [dist, label]\n",
    "        if pred[1] == real_label:\n",
    "            amount_correct += 1\n",
    "    print(f\"Amount correct {amount_correct}\")\n",
    "    return amount_correct\n"
   ]
  },
  {
   "cell_type": "code",
   "execution_count": 55,
   "metadata": {},
   "outputs": [
    {
     "name": "stdout",
     "output_type": "stream",
     "text": [
      "Amount correct 57\n",
      "Amount correct 49\n",
      "Amount correct 39\n",
      "Amount correct 53\n",
      "between fold 0 and 4 there were 198 correct predictions\n",
      "Amount correct 53\n",
      "Amount correct 58\n",
      "Amount correct 45\n",
      "Amount correct 48\n",
      "between fold 1 and 4 there were 204 correct predictions\n",
      "Amount correct 56\n",
      "Amount correct 57\n",
      "Amount correct 53\n",
      "Amount correct 52\n",
      "between fold 2 and 4 there were 218 correct predictions\n",
      "Amount correct 56\n",
      "Amount correct 43\n",
      "Amount correct 52\n",
      "Amount correct 50\n",
      "between fold 3 and 4 there were 201 correct predictions\n",
      "Amount correct 57\n",
      "Amount correct 54\n",
      "Amount correct 53\n",
      "Amount correct 41\n",
      "between fold 4 and 4 there were 205 correct predictions\n",
      "Total accuracy 64.125\n"
     ]
    }
   ],
   "source": [
    "accuracy  = []\n",
    "\n",
    "for i in range(len(five_folds)):\n",
    "    predict_for_me = five_folds[i]\n",
    "    # print(len(predict_for_me))\n",
    "    ammount_correct = 0\n",
    "    for j in range(len(five_folds)):\n",
    "        if i == j:\n",
    "            continue\n",
    "        test_on_me = five_folds[j]\n",
    "        ammount_correct += get_1nn_predictions(test_on_me, predict_for_me)\n",
    "    print(f\"between fold {i} and {j} there were {ammount_correct} correct predictions\")\n",
    "    accuracy.append((ammount_correct / 320) * 100)\n",
    "\n",
    "print( f\"Total accuracy {sum(accuracy) / 5}\" )\n",
    "        "
   ]
  },
  {
   "cell_type": "markdown",
   "metadata": {},
   "source": [
    "The printed statements here are misleading. That is not the number of correct predictions between fold i and j. It is the number of correct predictions with fold i as the test set"
   ]
  },
  {
   "cell_type": "code",
   "execution_count": 56,
   "metadata": {},
   "outputs": [
    {
     "name": "stdout",
     "output_type": "stream",
     "text": [
      "one NN accuracy {64.125}\n"
     ]
    }
   ],
   "source": [
    "one_NN_accuracy = {sum(accuracy) / 5} \n",
    "print(f\"one NN accuracy {one_NN_accuracy}\")"
   ]
  }
 ],
 "metadata": {
  "kernelspec": {
   "display_name": "Python 3",
   "language": "python",
   "name": "python3"
  },
  "language_info": {
   "codemirror_mode": {
    "name": "ipython",
    "version": 3
   },
   "file_extension": ".py",
   "mimetype": "text/x-python",
   "name": "python",
   "nbconvert_exporter": "python",
   "pygments_lexer": "ipython3",
   "version": "3.12.7"
  }
 },
 "nbformat": 4,
 "nbformat_minor": 2
}
